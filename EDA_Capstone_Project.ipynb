{
  "nbformat": 4,
  "nbformat_minor": 0,
  "metadata": {
    "colab": {
      "provenance": [],
      "mount_file_id": "17YCdouNZeSnw5-5r9JP37GueISYF_ezt",
      "authorship_tag": "ABX9TyN22ONKQI3KDogEpETjinaM",
      "include_colab_link": true
    },
    "kernelspec": {
      "name": "python3",
      "display_name": "Python 3"
    },
    "language_info": {
      "name": "python"
    }
  },
  "cells": [
    {
      "cell_type": "markdown",
      "metadata": {
        "id": "view-in-github",
        "colab_type": "text"
      },
      "source": [
        "<a href=\"https://colab.research.google.com/github/Sudar278/Capstone-Project_1-EDA-on-GTA-Data-/blob/main/EDA_Capstone_Project.ipynb\" target=\"_parent\"><img src=\"https://colab.research.google.com/assets/colab-badge.svg\" alt=\"Open In Colab\"/></a>"
      ]
    },
    {
      "cell_type": "code",
      "execution_count": null,
      "metadata": {
        "id": "l8kEPIhops45"
      },
      "outputs": [],
      "source": []
    },
    {
      "cell_type": "code",
      "source": [
        "import pandas as pd\n",
        "import numpy as np\n",
        "import matplotlib.pyplot as plt\n",
        "url='/content/drive/MyDrive/Capstone_project_datas/Global Terrorism Data.csv'\n",
        "df = pd.read_csv(url,encoding = \"ISO-8859-1\")\n",
        "df['num_attack']=df['eventid'].astype(str).str[-4:]\n",
        "df['num_attack']=df['num_attack'].astype(int)\n"
      ],
      "metadata": {
        "colab": {
          "base_uri": "https://localhost:8080/"
        },
        "id": "WsLhun8rp8ej",
        "outputId": "e340720e-ff24-47eb-9af1-6d1789b2d160"
      },
      "execution_count": 2,
      "outputs": [
        {
          "output_type": "stream",
          "name": "stderr",
          "text": [
            "/usr/local/lib/python3.8/dist-packages/IPython/core/interactiveshell.py:3326: DtypeWarning: Columns (4,6,31,33,61,62,63,76,79,90,92,94,96,114,115,121) have mixed types.Specify dtype option on import or set low_memory=False.\n",
            "  exec(code_obj, self.user_global_ns, self.user_ns)\n"
          ]
        }
      ]
    },
    {
      "cell_type": "code",
      "source": [
        "#df1=df[['eventid','iyear','imonth','iday','country_txt','region_txt','location']]\n",
        "#df[['alternative',\n",
        " 'alternative_txt',\n",
        " 'multiple',\n",
        " 'success',\n",
        " 'suicide',\n",
        " 'attacktype1',\n",
        " 'attacktype1_txt',\n",
        " 'attacktype2',\n",
        " 'attacktype2_txt',\n",
        " 'attacktype3',\n",
        " 'attacktype3_txt',]]"
      ],
      "metadata": {
        "id": "cQO5yhMSYM3I"
      },
      "execution_count": null,
      "outputs": []
    },
    {
      "cell_type": "code",
      "source": [
        "attack=pd.DataFrame(df.groupby('iyear')['num_attack'].sum())\n",
        "attack.reset_index(inplace=True)\n",
        "plt.rcParams[\"figure.figsize\"] = [15, 7]\n",
        "attack.plot(x='iyear',y='num_attack',kind ='bar')"
      ],
      "metadata": {
        "colab": {
          "base_uri": "https://localhost:8080/",
          "height": 476
        },
        "id": "1eWK707B9xQl",
        "outputId": "d83e14cc-601c-41d8-c0a4-3add9e11dd1c"
      },
      "execution_count": 3,
      "outputs": [
        {
          "output_type": "execute_result",
          "data": {
            "text/plain": [
              "<matplotlib.axes._subplots.AxesSubplot at 0x7fdd9d696d60>"
            ]
          },
          "metadata": {},
          "execution_count": 3
        },
        {
          "output_type": "display_data",
          "data": {
            "text/plain": [
              "<Figure size 1080x504 with 1 Axes>"
            ],
            "image/png": "[encoded data removed]"
          },
          "metadata": {
            "needs_background": "light"
          }
        }
      ]
    },
    {
      "cell_type": "code",
      "source": [
        "\"\"\"\n",
        "1.Total number of attacks,\n",
        "2.Total number of persons wounded,\n",
        "3.Total number of persons killed,\n",
        "4.Total number of persons killed/100k,\n",
        "5.Dangerous country index,\n",
        "6.Attack done by organization in a graph,\n",
        "7.A graph representing attacks done(bar graph)upon that number of persons killed(line graph),\n",
        "8.Most used weapons,\n",
        "9.Represent attacks attemted & success ratio,\n",
        "10.Countries and the value lost by them in attacks,\n",
        "11.Organization that made the highest asset damage\"\"\""
      ],
      "metadata": {
        "id": "e864qayhIeQJ"
      },
      "execution_count": null,
      "outputs": []
    }
  ]
}