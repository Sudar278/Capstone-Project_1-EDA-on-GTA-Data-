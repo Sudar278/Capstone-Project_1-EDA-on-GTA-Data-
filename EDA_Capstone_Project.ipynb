{
  "nbformat": 4,
  "nbformat_minor": 0,
  "metadata": {
    "colab": {
      "provenance": [],
      "mount_file_id": "17YCdouNZeSnw5-5r9JP37GueISYF_ezt",
      "authorship_tag": "ABX9TyO0EG/mzIfXWO9CXMdkLUPp",
      "include_colab_link": true
    },
    "kernelspec": {
      "name": "python3",
      "display_name": "Python 3"
    },
    "language_info": {
      "name": "python"
    }
  },
  "cells": [
    {
      "cell_type": "markdown",
      "metadata": {
        "id": "view-in-github",
        "colab_type": "text"
      },
      "source": [
        "<a href=\"https://colab.research.google.com/github/Sudar278/Capstone-Project_1-EDA-on-GTA-Data-/blob/main/EDA_Capstone_Project.ipynb\" target=\"_parent\"><img src=\"https://colab.research.google.com/assets/colab-badge.svg\" alt=\"Open In Colab\"/></a>"
      ]
    },
    {
      "cell_type": "markdown",
      "source": [
        "##**Project Name - EDA on Globa Terrorism Dataset(1970-2017)**\n",
        "\n",
        " **Contribution**    - Individual\n",
        "\n",
        " **Name**    - Sudar"
      ],
      "metadata": {
        "id": "8d1uVz_jex6u"
      }
    },
    {
      "cell_type": "markdown",
      "source": [
        "**Project Summary -**"
      ],
      "metadata": {
        "id": "h9uQpscifqMI"
      }
    },
    {
      "cell_type": "markdown",
      "source": [
        " **GitHub Link -**https://github.com/Sudar278/Capstone-Project_1-EDA-on-GTA-Data-.git"
      ],
      "metadata": {
        "id": "-6pV4D55f0FZ"
      }
    },
    {
      "cell_type": "markdown",
      "source": [
        "Importing necessary libraries and reading the data set as df"
      ],
      "metadata": {
        "id": "fLoer6KugseR"
      }
    },
    {
      "cell_type": "code",
      "source": [
        "import pandas as pd\n",
        "import numpy as np\n",
        "import matplotlib.pyplot as plt\n",
        "url='/content/drive/MyDrive/Capstone_project_datas/Global Terrorism Data.csv'\n",
        "df = pd.read_csv(url,encoding = \"ISO-8859-1\")"
      ],
      "metadata": {
        "colab": {
          "base_uri": "https://localhost:8080/"
        },
        "id": "WsLhun8rp8ej",
        "outputId": "f07a78b2-207e-482b-adbd-f7682333e16e"
      },
      "execution_count": 1,
      "outputs": [
        {
          "output_type": "stream",
          "name": "stderr",
          "text": [
            "/usr/local/lib/python3.8/dist-packages/IPython/core/interactiveshell.py:3326: DtypeWarning: Columns (4,6,31,33,61,62,63,76,79,90,92,94,96,114,115,121) have mixed types.Specify dtype option on import or set low_memory=False.\n",
            "  exec(code_obj, self.user_global_ns, self.user_ns)\n"
          ]
        }
      ]
    },
    {
      "cell_type": "code",
      "source": [
        "#Looking at my data set\n",
        "df\n"
      ],
      "metadata": {
        "id": "Vcb_W9eymk4l"
      },
      "execution_count": null,
      "outputs": []
    },
    {
      "cell_type": "code",
      "source": [
        "'''Extracting number of attacks done on a day from the event id column'''\n",
        "df['num_attack']=df['eventid'].astype(str).str[-4:]\n",
        "df['num_attack']=df['num_attack'].astype(int)\n",
        "list(df.columns)"
      ],
      "metadata": {
        "id": "pkvNnrHhkpbp"
      },
      "execution_count": null,
      "outputs": []
    },
    {
      "cell_type": "code",
      "source": [
        "'''After reading the data set description I came to know that many columns are not nesscesary for my analysis \n",
        "so I decided to create a new data set with necessary coloumns'''\n",
        "\n",
        "\n",
        "df1=df[['iyear','imonth','iday','country_txt','region_txt','city','attacktype1','success','nkill','suicide','nwound','gname','targtype1_txt','weapsubtype1_txt','num_attack']]\n",
        "df1"
      ],
      "metadata": {
        "id": "cQO5yhMSYM3I"
      },
      "execution_count": null,
      "outputs": []
    },
    {
      "cell_type": "code",
      "source": [
        "#getting info about the null values\n",
        "df1.info()"
      ],
      "metadata": {
        "id": "0at7DEITsDWp"
      },
      "execution_count": null,
      "outputs": []
    },
    {
      "cell_type": "code",
      "source": [
        "#calculating the number of null values in the redefined data set"
      ],
      "metadata": {
        "id": "g5OtHB3yvEPm"
      },
      "execution_count": 6,
      "outputs": []
    },
    {
      "cell_type": "code",
      "source": [
        "\"\"\"\n",
        "Some basic insights question from the dataset\n",
        "1.Total number of attack\n",
        "2.Total number of persons wounded\n",
        "3.Total number of persons killed\n",
        "4.Country with highest number of attack and the number of attack\n",
        "5.City with highest number of attack\n",
        "6.Region with the most attacks\n",
        "7.Year with the most attacks\n",
        "8. Group that made most attacks\n",
        "9.Attack Type used widely\"\"\""
      ],
      "metadata": {
        "id": "e864qayhIeQJ"
      },
      "execution_count": null,
      "outputs": []
    },
    {
      "cell_type": "code",
      "source": [
        "# Answers for the above mentioned Questions\n",
        "df_country=pd.DataFrame(df.groupby('country_txt')['num_attack'].sum())\n",
        "df_country.reset_index(inplace=True)\n",
        "\n",
        "df_city=pd.DataFrame(df.groupby('city')['num_attack'].sum())\n",
        "df_city.reset_index(inplace=True)\n",
        "\n",
        "\n",
        "print('Total number of attacks:',df1['num_attack'].sum())\n",
        "print('Total number of persons wounded:',round(df1['nwound'].sum()))\n",
        "print('Total number of persons killed:',round(df1['nkill'].sum()))\n",
        "print((df.groupby('country_txt')['num_attack'].sum()).idxmax(),'is the country with highest number of attack and the number of attack is',df_country['num_attack'].max())\n",
        "print (df1['city'].value_counts().index[1],'is the city with highest number of attack')\n",
        "print(\"Region with the most attacks:\",df['region_txt'].value_counts().idxmax())\n",
        "print(\"Year with the most attacks:\",df1['iyear'].value_counts().idxmax())\n",
        "print(\"Month with the most attacks:\",df1['imonth'].value_counts().idxmax())\n",
        "print(\"Group with the most attacks:\",df['gname'].value_counts().index[1])\n",
        "print(\"Most Attack Types:\",df['attacktype1_txt'].value_counts().idxmax())\n",
        "\n",
        "\n"
      ],
      "metadata": {
        "id": "MjQLY326HW9M"
      },
      "execution_count": null,
      "outputs": []
    },
    {
      "cell_type": "code",
      "source": [
        "# Getting the year in which the number of attacks was high and plotting in a bar gragh\n",
        "attack=pd.DataFrame(df.groupby('iyear')['num_attack'].sum())\n",
        "attack.reset_index(inplace=True)\n",
        "plt.rcParams[\"figure.figsize\"] = [15, 7]\n",
        "attack.plot(x='iyear',y='num_attack',kind ='bar')"
      ],
      "metadata": {
        "id": "1eWK707B9xQl"
      },
      "execution_count": null,
      "outputs": []
    },
    {
      "cell_type": "code",
      "source": [
        "# Top 15 organization with repect to the number of attack  \n",
        "organization_attack=pd.DataFrame(df['gname'].value_counts()[1:15])\n",
        "organization_attack.reset_index (inplace=True)\n",
        "plt.rcParams[\"figure.figsize\"] = [15, 7]\n",
        "organization_attack.plot(x='index',y='gname',kind ='bar')\n",
        "plt.title('Organization with repect to the number of attack')\n",
        "plt.xlabel('Organization')\n",
        "plt.ylabel('Num of Attacks')"
      ],
      "metadata": {
        "id": "F_FM0ZeBDFA6"
      },
      "execution_count": null,
      "outputs": []
    },
    {
      "cell_type": "code",
      "source": [
        "# Top 15 countries affected by terrorism with repect to the number of attack  \n",
        "country_attack=pd.DataFrame(df['country_txt'].value_counts()[:15])\n",
        "country_attack.reset_index (inplace=True)\n",
        "plt.rcParams[\"figure.figsize\"] = [15, 7]\n",
        "country_attack.plot(x='index',y='country_txt',kind ='bar')\n",
        "plt.title('Countries affected by terrorism with repect to the no of attack')\n",
        "plt.xlabel('Country')\n",
        "plt.ylabel('Num of Attacks')"
      ],
      "metadata": {
        "id": "qw1SIH4N-Qk8"
      },
      "execution_count": null,
      "outputs": []
    },
    {
      "cell_type": "code",
      "source": [
        "# No of persons killed with respect to attack type\n",
        "type_to_num_killed = df.pivot_table(columns='attacktype1_txt', values='nkill', aggfunc='sum')\n",
        "type_to_num_killed\n",
        "plt.pie(type_to_num_killed[0:1], labels = type_to_num_killed.columns, startangle = 90)"
      ],
      "metadata": {
        "colab": {
          "base_uri": "https://localhost:8080/",
          "height": 790
        },
        "id": "PigT8oGjOvbT",
        "outputId": "51b28712-f8fb-4e1d-c610-6f9e9cea0285"
      },
      "execution_count": 60,
      "outputs": [
        {
          "output_type": "stream",
          "name": "stderr",
          "text": [
            "<ipython-input-60-480a88c380ce>:3: MatplotlibDeprecationWarning: Non-1D inputs to pie() are currently squeeze()d, but this behavior is deprecated since 3.1 and will be removed in 3.3; pass a 1D array instead.\n",
            "  plt.pie(type_to_num_killed[0:1], labels = type_to_num_killed.columns, startangle = 90)\n"
          ]
        },
        {
          "output_type": "execute_result",
          "data": {
            "text/plain": [
              "([<matplotlib.patches.Wedge at 0x7f5f352a78b0>,\n",
              "  <matplotlib.patches.Wedge at 0x7f5f328ec4c0>,\n",
              "  <matplotlib.patches.Wedge at 0x7f5f328ec940>,\n",
              "  <matplotlib.patches.Wedge at 0x7f5f328ecdc0>,\n",
              "  <matplotlib.patches.Wedge at 0x7f5f328fd280>,\n",
              "  <matplotlib.patches.Wedge at 0x7f5f328fd6a0>,\n",
              "  <matplotlib.patches.Wedge at 0x7f5f328fdac0>,\n",
              "  <matplotlib.patches.Wedge at 0x7f5f328fdee0>,\n",
              "  <matplotlib.patches.Wedge at 0x7f5f32909340>],\n",
              " [Text(-1.0340233085036512, 0.3752276608555974, 'Armed Assault'),\n",
              "  Text(-0.5332721437457769, -0.9620918982637696, 'Assassination'),\n",
              "  Text(0.8505728965659088, -0.697513976653859, 'Bombing/Explosion'),\n",
              "  Text(0.9429567655380918, 0.5664208138177308, 'Facility/Infrastructure Attack'),\n",
              "  Text(0.9096892551020745, 0.6184379185915374, 'Hijacking'),\n",
              "  Text(0.869274849462873, 0.6740632285559713, 'Hostage Taking (Barricade Incident)'),\n",
              "  Text(0.7020843261401281, 0.8468043451638415, 'Hostage Taking (Kidnapping)'),\n",
              "  Text(0.5280393679586287, 0.9649737954399861, 'Unarmed Assault'),\n",
              "  Text(0.2689367739342208, 1.0666175564024127, 'Unknown')])"
            ]
          },
          "metadata": {},
          "execution_count": 60
        },
        {
          "output_type": "display_data",
          "data": {
            "text/plain": [
              "<Figure size 1080x504 with 1 Axes>"
            ],
            "image/png": "[encoded data removed]"
          },
          "metadata": {}
        }
      ]
    },
    {
      "cell_type": "code",
      "source": [
        "# No of persons killed with respect to country\n",
        "country_to_num_killed = df.pivot_table(columns='country_txt', values='nkill', aggfunc='sum')\n",
        "country_to_num_killed\n",
        "plt.bar(country_to_num_killed[0:1], labels = country_to_num_killed.columns,width=0.1)\n"
      ],
      "metadata": {
        "colab": {
          "base_uri": "https://localhost:8080/",
          "height": 205
        },
        "id": "bCp_KI2eBhpC",
        "outputId": "6cc03bd6-35cd-4d68-8b29-123134b11068"
      },
      "execution_count": 73,
      "outputs": [
        {
          "output_type": "error",
          "ename": "TypeError",
          "evalue": "ignored",
          "traceback": [
            "\u001b[0;31m---------------------------------------------------------------------------\u001b[0m",
            "\u001b[0;31mTypeError\u001b[0m                                 Traceback (most recent call last)",
            "\u001b[0;32m<ipython-input-73-441941c5a8cb>\u001b[0m in \u001b[0;36m<module>\u001b[0;34m\u001b[0m\n\u001b[1;32m      2\u001b[0m \u001b[0mcountry_to_num_killed\u001b[0m \u001b[0;34m=\u001b[0m \u001b[0mdf\u001b[0m\u001b[0;34m.\u001b[0m\u001b[0mpivot_table\u001b[0m\u001b[0;34m(\u001b[0m\u001b[0mcolumns\u001b[0m\u001b[0;34m=\u001b[0m\u001b[0;34m'country_txt'\u001b[0m\u001b[0;34m,\u001b[0m \u001b[0mvalues\u001b[0m\u001b[0;34m=\u001b[0m\u001b[0;34m'nkill'\u001b[0m\u001b[0;34m,\u001b[0m \u001b[0maggfunc\u001b[0m\u001b[0;34m=\u001b[0m\u001b[0;34m'sum'\u001b[0m\u001b[0;34m)\u001b[0m\u001b[0;34m\u001b[0m\u001b[0;34m\u001b[0m\u001b[0m\n\u001b[1;32m      3\u001b[0m \u001b[0mcountry_to_num_killed\u001b[0m\u001b[0;34m\u001b[0m\u001b[0;34m\u001b[0m\u001b[0m\n\u001b[0;32m----> 4\u001b[0;31m \u001b[0mplt\u001b[0m\u001b[0;34m.\u001b[0m\u001b[0mbar\u001b[0m\u001b[0;34m(\u001b[0m\u001b[0mcountry_to_num_killed\u001b[0m\u001b[0;34m[\u001b[0m\u001b[0;36m0\u001b[0m\u001b[0;34m:\u001b[0m\u001b[0;36m1\u001b[0m\u001b[0;34m]\u001b[0m\u001b[0;34m,\u001b[0m \u001b[0mlabels\u001b[0m \u001b[0;34m=\u001b[0m \u001b[0mcountry_to_num_killed\u001b[0m\u001b[0;34m.\u001b[0m\u001b[0mcolumns\u001b[0m\u001b[0;34m,\u001b[0m\u001b[0mwidth\u001b[0m\u001b[0;34m=\u001b[0m\u001b[0;36m0.1\u001b[0m\u001b[0;34m)\u001b[0m\u001b[0;34m\u001b[0m\u001b[0;34m\u001b[0m\u001b[0m\n\u001b[0m",
            "\u001b[0;31mTypeError\u001b[0m: bar() missing 1 required positional argument: 'height'"
          ]
        }
      ]
    },
    {
      "cell_type": "code",
      "source": [
        "list(df.columns)"
      ],
      "metadata": {
        "colab": {
          "base_uri": "https://localhost:8080/"
        },
        "id": "CMVp7LWaSm-5",
        "outputId": "db158a8f-f987-4e43-e4c1-0de17fdee3d8"
      },
      "execution_count": 61,
      "outputs": [
        {
          "output_type": "execute_result",
          "data": {
            "text/plain": [
              "['eventid',\n",
              " 'iyear',\n",
              " 'imonth',\n",
              " 'iday',\n",
              " 'approxdate',\n",
              " 'extended',\n",
              " 'resolution',\n",
              " 'country',\n",
              " 'country_txt',\n",
              " 'region',\n",
              " 'region_txt',\n",
              " 'provstate',\n",
              " 'city',\n",
              " 'latitude',\n",
              " 'longitude',\n",
              " 'specificity',\n",
              " 'vicinity',\n",
              " 'location',\n",
              " 'summary',\n",
              " 'crit1',\n",
              " 'crit2',\n",
              " 'crit3',\n",
              " 'doubtterr',\n",
              " 'alternative',\n",
              " 'alternative_txt',\n",
              " 'multiple',\n",
              " 'success',\n",
              " 'suicide',\n",
              " 'attacktype1',\n",
              " 'attacktype1_txt',\n",
              " 'attacktype2',\n",
              " 'attacktype2_txt',\n",
              " 'attacktype3',\n",
              " 'attacktype3_txt',\n",
              " 'targtype1',\n",
              " 'targtype1_txt',\n",
              " 'targsubtype1',\n",
              " 'targsubtype1_txt',\n",
              " 'corp1',\n",
              " 'target1',\n",
              " 'natlty1',\n",
              " 'natlty1_txt',\n",
              " 'targtype2',\n",
              " 'targtype2_txt',\n",
              " 'targsubtype2',\n",
              " 'targsubtype2_txt',\n",
              " 'corp2',\n",
              " 'target2',\n",
              " 'natlty2',\n",
              " 'natlty2_txt',\n",
              " 'targtype3',\n",
              " 'targtype3_txt',\n",
              " 'targsubtype3',\n",
              " 'targsubtype3_txt',\n",
              " 'corp3',\n",
              " 'target3',\n",
              " 'natlty3',\n",
              " 'natlty3_txt',\n",
              " 'gname',\n",
              " 'gsubname',\n",
              " 'gname2',\n",
              " 'gsubname2',\n",
              " 'gname3',\n",
              " 'gsubname3',\n",
              " 'motive',\n",
              " 'guncertain1',\n",
              " 'guncertain2',\n",
              " 'guncertain3',\n",
              " 'individual',\n",
              " 'nperps',\n",
              " 'nperpcap',\n",
              " 'claimed',\n",
              " 'claimmode',\n",
              " 'claimmode_txt',\n",
              " 'claim2',\n",
              " 'claimmode2',\n",
              " 'claimmode2_txt',\n",
              " 'claim3',\n",
              " 'claimmode3',\n",
              " 'claimmode3_txt',\n",
              " 'compclaim',\n",
              " 'weaptype1',\n",
              " 'weaptype1_txt',\n",
              " 'weapsubtype1',\n",
              " 'weapsubtype1_txt',\n",
              " 'weaptype2',\n",
              " 'weaptype2_txt',\n",
              " 'weapsubtype2',\n",
              " 'weapsubtype2_txt',\n",
              " 'weaptype3',\n",
              " 'weaptype3_txt',\n",
              " 'weapsubtype3',\n",
              " 'weapsubtype3_txt',\n",
              " 'weaptype4',\n",
              " 'weaptype4_txt',\n",
              " 'weapsubtype4',\n",
              " 'weapsubtype4_txt',\n",
              " 'weapdetail',\n",
              " 'nkill',\n",
              " 'nkillus',\n",
              " 'nkillter',\n",
              " 'nwound',\n",
              " 'nwoundus',\n",
              " 'nwoundte',\n",
              " 'property',\n",
              " 'propextent',\n",
              " 'propextent_txt',\n",
              " 'propvalue',\n",
              " 'propcomment',\n",
              " 'ishostkid',\n",
              " 'nhostkid',\n",
              " 'nhostkidus',\n",
              " 'nhours',\n",
              " 'ndays',\n",
              " 'divert',\n",
              " 'kidhijcountry',\n",
              " 'ransom',\n",
              " 'ransomamt',\n",
              " 'ransomamtus',\n",
              " 'ransompaid',\n",
              " 'ransompaidus',\n",
              " 'ransomnote',\n",
              " 'hostkidoutcome',\n",
              " 'hostkidoutcome_txt',\n",
              " 'nreleased',\n",
              " 'addnotes',\n",
              " 'scite1',\n",
              " 'scite2',\n",
              " 'scite3',\n",
              " 'dbsource',\n",
              " 'INT_LOG',\n",
              " 'INT_IDEO',\n",
              " 'INT_MISC',\n",
              " 'INT_ANY',\n",
              " 'related',\n",
              " 'num_attack']"
            ]
          },
          "metadata": {},
          "execution_count": 61
        }
      ]
    }
  ]
}